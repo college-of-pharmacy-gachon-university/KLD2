{
 "cells": [
  {
   "cell_type": "code",
   "execution_count": 2,
   "metadata": {},
   "outputs": [],
   "source": [
    "from __future__ import print_function\n",
    "import pandas as pd\n",
    "import numpy as np\n",
    "import scipy as sp\n",
    "from itertools import chain\n",
    "import scipy.optimize as opt\n",
    "import scipy.stats\n",
    "import matplotlib.pyplot as plt\n",
    "from scipy.stats import norm\n",
    "from numpy import concatenate, linspace\n",
    "from numpy.random import normal\n",
    "import matplotlib.pyplot as plt\n",
    "from scipy.stats import gaussian_kde, entropy, ks_2samp\n",
    "\n",
    "MAX_ENTROPY_ALLOWED = 1e5\n",
    "\n",
    "kde_pdf=pd.read_csv('pdf.csv' ) #Load pdf data from kde\n",
    "kde_pdf.fillna(0, inplace = True)\n",
    "kde_pdf.isnull().values.any\n",
    "\n",
    "#data=pd.read_csv('19+10003.csv' ) #Input Dataset\n",
    "#data.fillna(0, inplace = True)\n",
    "#data.isnull().values.any\n",
    "\n",
    "\n",
    "CHEMBL4303 = kde_pdf.iloc[:,1].values\n",
    "CHEMBL4153 = kde_pdf.iloc[:, 2].values\n",
    "CHEMBL339 = kde_pdf.iloc[:, 3].values\n",
    "CHEMBL4142 = kde_pdf.iloc[:, 4].values\n",
    "\n",
    "CHEMBL2056 = kde_pdf.iloc[:, 5].values\n",
    "CHEMBL1667684 = kde_pdf.iloc[:, 6].values\n",
    "CHEMBL2842 = kde_pdf.iloc[:, 7].values\n"
   ]
  },
  {
   "cell_type": "code",
   "execution_count": 5,
   "metadata": {},
   "outputs": [
    {
     "name": "stdout",
     "output_type": "stream",
     "text": [
      "Using matplotlib backend: Qt5Agg\n",
      "Populating the interactive namespace from numpy and matplotlib\n"
     ]
    }
   ],
   "source": [
    "%pylab\n",
    "clf\n",
    "x = np.linspace(0,1,101)\n",
    "plot(x,CHEMBL4153, label='CHEMBL4153(Sigma opioid receptor )')\n",
    "plot(x,CHEMBL1667684, label='CHEMBL1667684(Neuraminidase - Influenza A virus )')\n",
    "legend(loc='upper right')\n",
    "savefig('CHEMBL4153 CHEMBL1667684.png')"
   ]
  },
  {
   "cell_type": "code",
   "execution_count": 6,
   "metadata": {},
   "outputs": [
    {
     "name": "stdout",
     "output_type": "stream",
     "text": [
      "Using matplotlib backend: Qt5Agg\n",
      "Populating the interactive namespace from numpy and matplotlib\n"
     ]
    }
   ],
   "source": [
    "%pylab\n",
    "clf\n",
    "x = np.linspace(0,1,101)\n",
    "plot(x,CHEMBL4303, label='CHEMBL4303(Heat shock protein 90 kDa beta)')\n",
    "plot(x,CHEMBL4142, label='CHEMBL4142(Fibroblast growth factor receptor 1 )')\n",
    "plot(x,CHEMBL2842, label='CHEMBL2842(Serinethreonine-protein kinasemTOR)')\n",
    "legend(loc='upper right')\n",
    "savefig('CHEMBL4303 CHEMBL4142 CHEMBL2842.png')"
   ]
  },
  {
   "cell_type": "code",
   "execution_count": 7,
   "metadata": {},
   "outputs": [
    {
     "name": "stdout",
     "output_type": "stream",
     "text": [
      "Using matplotlib backend: Qt5Agg\n",
      "Populating the interactive namespace from numpy and matplotlib\n"
     ]
    }
   ],
   "source": [
    "%pylab\n",
    "clf\n",
    "x = np.linspace(0,1,101)\n",
    "plot(x,CHEMBL339, label='CHEMBL339(Dopamine D2 receptor )')\n",
    "plot(x,CHEMBL2056, label='CHEMBL2056(Dopamine D1 receptor)')\n",
    "legend(loc='upper right')\n",
    "savefig('CHEMBL339 CHEMBL2056.png')"
   ]
  },
  {
   "cell_type": "code",
   "execution_count": null,
   "metadata": {},
   "outputs": [],
   "source": []
  },
  {
   "cell_type": "code",
   "execution_count": null,
   "metadata": {},
   "outputs": [],
   "source": []
  },
  {
   "cell_type": "code",
   "execution_count": null,
   "metadata": {},
   "outputs": [],
   "source": []
  },
  {
   "cell_type": "code",
   "execution_count": null,
   "metadata": {},
   "outputs": [],
   "source": []
  },
  {
   "cell_type": "code",
   "execution_count": null,
   "metadata": {},
   "outputs": [],
   "source": []
  }
 ],
 "metadata": {
  "kernelspec": {
   "display_name": "Python 3",
   "language": "python",
   "name": "python3"
  },
  "language_info": {
   "codemirror_mode": {
    "name": "ipython",
    "version": 3
   },
   "file_extension": ".py",
   "mimetype": "text/x-python",
   "name": "python",
   "nbconvert_exporter": "python",
   "pygments_lexer": "ipython3",
   "version": "3.7.4"
  }
 },
 "nbformat": 4,
 "nbformat_minor": 4
}
