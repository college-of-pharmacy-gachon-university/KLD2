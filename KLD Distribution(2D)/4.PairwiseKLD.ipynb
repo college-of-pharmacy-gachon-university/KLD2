{
 "cells": [
  {
   "cell_type": "code",
   "execution_count": 1,
   "metadata": {},
   "outputs": [],
   "source": [
    "import pandas as pd\n",
    "import numpy as np\n",
    "\n",
    "def CalcKLD(P, Q):\n",
    "    epsilon = 0.0001\n",
    "    P = P + epsilon\n",
    "    Q = Q+ epsilon\n",
    "    divergence = np.sum(P*np.log(P/Q))\n",
    "    return divergence\n",
    "\n",
    "def PairwiseKLD(data):\n",
    "    KL = np.zeros ((len(data.columns),len(data.columns)))\n",
    "    KLD = pd.DataFrame(KL).T\n",
    "    KLD.index = data.columns\n",
    "    KLD.columns = data.columns\n",
    "    for i in data.columns:\n",
    "        for j in data.columns:\n",
    "            KLD[i][j]=CalcKLD(data[i].values/np.sum(data[i].values), data[j].values/np.sum(data[j].values))\n",
    "    return KLD"
   ]
  },
  {
   "cell_type": "code",
   "execution_count": 2,
   "metadata": {},
   "outputs": [],
   "source": [
    "pdf = pd.read_csv('pdf.csv', index_col=0)"
   ]
  },
  {
   "cell_type": "code",
   "execution_count": 5,
   "metadata": {},
   "outputs": [],
   "source": [
    "result = PairwiseKLD(pdf)"
   ]
  },
  {
   "cell_type": "code",
   "execution_count": 6,
   "metadata": {},
   "outputs": [
    {
     "data": {
      "text/html": [
       "<div>\n",
       "<style scoped>\n",
       "    .dataframe tbody tr th:only-of-type {\n",
       "        vertical-align: middle;\n",
       "    }\n",
       "\n",
       "    .dataframe tbody tr th {\n",
       "        vertical-align: top;\n",
       "    }\n",
       "\n",
       "    .dataframe thead th {\n",
       "        text-align: right;\n",
       "    }\n",
       "</style>\n",
       "<table border=\"1\" class=\"dataframe\">\n",
       "  <thead>\n",
       "    <tr style=\"text-align: right;\">\n",
       "      <th></th>\n",
       "      <th>CHEMBL4303</th>\n",
       "      <th>CHEMBL4153</th>\n",
       "      <th>CHEMBL339</th>\n",
       "      <th>CHEMBL4142</th>\n",
       "      <th>CHEMBL2056</th>\n",
       "      <th>CHEMBL1667684</th>\n",
       "      <th>CHEMBL2842</th>\n",
       "    </tr>\n",
       "  </thead>\n",
       "  <tbody>\n",
       "    <tr>\n",
       "      <th>CHEMBL4303</th>\n",
       "      <td>0.000000</td>\n",
       "      <td>0.782592</td>\n",
       "      <td>0.260624</td>\n",
       "      <td>0.547167</td>\n",
       "      <td>0.179113</td>\n",
       "      <td>1.758056</td>\n",
       "      <td>0.264272</td>\n",
       "    </tr>\n",
       "    <tr>\n",
       "      <th>CHEMBL4153</th>\n",
       "      <td>0.608681</td>\n",
       "      <td>0.000000</td>\n",
       "      <td>0.548674</td>\n",
       "      <td>0.675387</td>\n",
       "      <td>0.871620</td>\n",
       "      <td>1.165081</td>\n",
       "      <td>0.555433</td>\n",
       "    </tr>\n",
       "    <tr>\n",
       "      <th>CHEMBL339</th>\n",
       "      <td>0.284276</td>\n",
       "      <td>0.895443</td>\n",
       "      <td>0.000000</td>\n",
       "      <td>0.707890</td>\n",
       "      <td>0.668772</td>\n",
       "      <td>2.379979</td>\n",
       "      <td>0.035199</td>\n",
       "    </tr>\n",
       "    <tr>\n",
       "      <th>CHEMBL4142</th>\n",
       "      <td>0.647683</td>\n",
       "      <td>1.093324</td>\n",
       "      <td>0.407179</td>\n",
       "      <td>0.000000</td>\n",
       "      <td>1.395917</td>\n",
       "      <td>0.993345</td>\n",
       "      <td>0.278773</td>\n",
       "    </tr>\n",
       "    <tr>\n",
       "      <th>CHEMBL2056</th>\n",
       "      <td>0.210855</td>\n",
       "      <td>1.349562</td>\n",
       "      <td>0.554583</td>\n",
       "      <td>1.518874</td>\n",
       "      <td>0.000000</td>\n",
       "      <td>3.542847</td>\n",
       "      <td>0.632693</td>\n",
       "    </tr>\n",
       "    <tr>\n",
       "      <th>CHEMBL1667684</th>\n",
       "      <td>3.164374</td>\n",
       "      <td>1.463141</td>\n",
       "      <td>2.229730</td>\n",
       "      <td>1.344184</td>\n",
       "      <td>4.292231</td>\n",
       "      <td>0.000000</td>\n",
       "      <td>2.132429</td>\n",
       "    </tr>\n",
       "    <tr>\n",
       "      <th>CHEMBL2842</th>\n",
       "      <td>0.327753</td>\n",
       "      <td>0.838659</td>\n",
       "      <td>0.032919</td>\n",
       "      <td>0.408988</td>\n",
       "      <td>0.818865</td>\n",
       "      <td>1.924401</td>\n",
       "      <td>0.000000</td>\n",
       "    </tr>\n",
       "  </tbody>\n",
       "</table>\n",
       "</div>"
      ],
      "text/plain": [
       "               CHEMBL4303  CHEMBL4153  CHEMBL339  CHEMBL4142  CHEMBL2056  \\\n",
       "CHEMBL4303       0.000000    0.782592   0.260624    0.547167    0.179113   \n",
       "CHEMBL4153       0.608681    0.000000   0.548674    0.675387    0.871620   \n",
       "CHEMBL339        0.284276    0.895443   0.000000    0.707890    0.668772   \n",
       "CHEMBL4142       0.647683    1.093324   0.407179    0.000000    1.395917   \n",
       "CHEMBL2056       0.210855    1.349562   0.554583    1.518874    0.000000   \n",
       "CHEMBL1667684    3.164374    1.463141   2.229730    1.344184    4.292231   \n",
       "CHEMBL2842       0.327753    0.838659   0.032919    0.408988    0.818865   \n",
       "\n",
       "               CHEMBL1667684  CHEMBL2842  \n",
       "CHEMBL4303          1.758056    0.264272  \n",
       "CHEMBL4153          1.165081    0.555433  \n",
       "CHEMBL339           2.379979    0.035199  \n",
       "CHEMBL4142          0.993345    0.278773  \n",
       "CHEMBL2056          3.542847    0.632693  \n",
       "CHEMBL1667684       0.000000    2.132429  \n",
       "CHEMBL2842          1.924401    0.000000  "
      ]
     },
     "execution_count": 6,
     "metadata": {},
     "output_type": "execute_result"
    }
   ],
   "source": [
    "result"
   ]
  },
  {
   "cell_type": "markdown",
   "metadata": {},
   "source": [
    "# [1]Example Target Classes having Small Numbers of Ligands: Q3,Q13"
   ]
  },
  {
   "cell_type": "code",
   "execution_count": 10,
   "metadata": {},
   "outputs": [
    {
     "data": {
      "text/html": [
       "<div>\n",
       "<style scoped>\n",
       "    .dataframe tbody tr th:only-of-type {\n",
       "        vertical-align: middle;\n",
       "    }\n",
       "\n",
       "    .dataframe tbody tr th {\n",
       "        vertical-align: top;\n",
       "    }\n",
       "\n",
       "    .dataframe thead th {\n",
       "        text-align: right;\n",
       "    }\n",
       "</style>\n",
       "<table border=\"1\" class=\"dataframe\">\n",
       "  <thead>\n",
       "    <tr style=\"text-align: right;\">\n",
       "      <th></th>\n",
       "      <th>CHEMBL4153</th>\n",
       "      <th>CHEMBL1667684</th>\n",
       "    </tr>\n",
       "  </thead>\n",
       "  <tbody>\n",
       "    <tr>\n",
       "      <th>CHEMBL4153</th>\n",
       "      <td>0.000000</td>\n",
       "      <td>1.165081</td>\n",
       "    </tr>\n",
       "    <tr>\n",
       "      <th>CHEMBL1667684</th>\n",
       "      <td>1.463141</td>\n",
       "      <td>0.000000</td>\n",
       "    </tr>\n",
       "  </tbody>\n",
       "</table>\n",
       "</div>"
      ],
      "text/plain": [
       "               CHEMBL4153  CHEMBL1667684\n",
       "CHEMBL4153       0.000000       1.165081\n",
       "CHEMBL1667684    1.463141       0.000000"
      ]
     },
     "execution_count": 10,
     "metadata": {},
     "output_type": "execute_result"
    }
   ],
   "source": [
    "result.loc[['CHEMBL4153','CHEMBL1667684' ]][['CHEMBL4153','CHEMBL1667684' ]]"
   ]
  },
  {
   "cell_type": "markdown",
   "metadata": {},
   "source": [
    "# [2]Example Target Classes having Sim PDF far from Gaussian : Q2  Q10 Q14 "
   ]
  },
  {
   "cell_type": "code",
   "execution_count": 11,
   "metadata": {},
   "outputs": [
    {
     "data": {
      "text/html": [
       "<div>\n",
       "<style scoped>\n",
       "    .dataframe tbody tr th:only-of-type {\n",
       "        vertical-align: middle;\n",
       "    }\n",
       "\n",
       "    .dataframe tbody tr th {\n",
       "        vertical-align: top;\n",
       "    }\n",
       "\n",
       "    .dataframe thead th {\n",
       "        text-align: right;\n",
       "    }\n",
       "</style>\n",
       "<table border=\"1\" class=\"dataframe\">\n",
       "  <thead>\n",
       "    <tr style=\"text-align: right;\">\n",
       "      <th></th>\n",
       "      <th>CHEMBL4303</th>\n",
       "      <th>CHEMBL4142</th>\n",
       "      <th>CHEMBL2842</th>\n",
       "    </tr>\n",
       "  </thead>\n",
       "  <tbody>\n",
       "    <tr>\n",
       "      <th>CHEMBL4303</th>\n",
       "      <td>0.000000</td>\n",
       "      <td>0.547167</td>\n",
       "      <td>0.264272</td>\n",
       "    </tr>\n",
       "    <tr>\n",
       "      <th>CHEMBL4142</th>\n",
       "      <td>0.647683</td>\n",
       "      <td>0.000000</td>\n",
       "      <td>0.278773</td>\n",
       "    </tr>\n",
       "    <tr>\n",
       "      <th>CHEMBL2842</th>\n",
       "      <td>0.327753</td>\n",
       "      <td>0.408988</td>\n",
       "      <td>0.000000</td>\n",
       "    </tr>\n",
       "  </tbody>\n",
       "</table>\n",
       "</div>"
      ],
      "text/plain": [
       "            CHEMBL4303  CHEMBL4142  CHEMBL2842\n",
       "CHEMBL4303    0.000000    0.547167    0.264272\n",
       "CHEMBL4142    0.647683    0.000000    0.278773\n",
       "CHEMBL2842    0.327753    0.408988    0.000000"
      ]
     },
     "execution_count": 11,
     "metadata": {},
     "output_type": "execute_result"
    }
   ],
   "source": [
    "result.loc[['CHEMBL4303','CHEMBL4142', 'CHEMBL2842' ]][['CHEMBL4303','CHEMBL4142', 'CHEMBL2842' ]]"
   ]
  },
  {
   "cell_type": "markdown",
   "metadata": {},
   "source": [
    "# [3]Example Similar Target Classes sharing Endogeous Ligands: Q5 Q11"
   ]
  },
  {
   "cell_type": "code",
   "execution_count": 12,
   "metadata": {},
   "outputs": [
    {
     "data": {
      "text/html": [
       "<div>\n",
       "<style scoped>\n",
       "    .dataframe tbody tr th:only-of-type {\n",
       "        vertical-align: middle;\n",
       "    }\n",
       "\n",
       "    .dataframe tbody tr th {\n",
       "        vertical-align: top;\n",
       "    }\n",
       "\n",
       "    .dataframe thead th {\n",
       "        text-align: right;\n",
       "    }\n",
       "</style>\n",
       "<table border=\"1\" class=\"dataframe\">\n",
       "  <thead>\n",
       "    <tr style=\"text-align: right;\">\n",
       "      <th></th>\n",
       "      <th>CHEMBL339</th>\n",
       "      <th>CHEMBL2056</th>\n",
       "    </tr>\n",
       "  </thead>\n",
       "  <tbody>\n",
       "    <tr>\n",
       "      <th>CHEMBL339</th>\n",
       "      <td>0.000000</td>\n",
       "      <td>0.668772</td>\n",
       "    </tr>\n",
       "    <tr>\n",
       "      <th>CHEMBL2056</th>\n",
       "      <td>0.554583</td>\n",
       "      <td>0.000000</td>\n",
       "    </tr>\n",
       "  </tbody>\n",
       "</table>\n",
       "</div>"
      ],
      "text/plain": [
       "            CHEMBL339  CHEMBL2056\n",
       "CHEMBL339    0.000000    0.668772\n",
       "CHEMBL2056   0.554583    0.000000"
      ]
     },
     "execution_count": 12,
     "metadata": {},
     "output_type": "execute_result"
    }
   ],
   "source": [
    "result.loc[['CHEMBL339','CHEMBL2056' ]][['CHEMBL339','CHEMBL2056' ]]"
   ]
  },
  {
   "cell_type": "code",
   "execution_count": null,
   "metadata": {},
   "outputs": [],
   "source": []
  }
 ],
 "metadata": {
  "kernelspec": {
   "display_name": "Python 3",
   "language": "python",
   "name": "python3"
  },
  "language_info": {
   "codemirror_mode": {
    "name": "ipython",
    "version": 3
   },
   "file_extension": ".py",
   "mimetype": "text/x-python",
   "name": "python",
   "nbconvert_exporter": "python",
   "pygments_lexer": "ipython3",
   "version": "3.7.4"
  }
 },
 "nbformat": 4,
 "nbformat_minor": 4
}
