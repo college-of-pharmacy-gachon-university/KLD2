{
 "cells": [
  {
   "cell_type": "code",
   "execution_count": 1,
   "metadata": {},
   "outputs": [],
   "source": [
    "import pandas as pd\n",
    "import numpy as np\n",
    "import matplotlib.pyplot as plt\n",
    "from scipy.stats import *\n",
    "\n",
    "def KL(P, Q):\n",
    "    epsilon = 0.001\n",
    "    P = P + epsilon\n",
    "    Q = Q+ epsilon\n",
    "    divergence = np.sum(P*np.log(P/Q))\n",
    "    return divergence\n",
    "\n",
    "def readdata(filename):\n",
    "    class_TC=pd.read_csv(filename, index_col=0 ) #Class1 TC Dataset\n",
    "    class_TC.fillna(0, inplace = True)        #Replace \"NaN\" into 0 value\n",
    "    class_TC.isnull().values.any\n",
    "    num_of_compounds = len(class_TC)  #Number of Query\n",
    "    print(num_of_compounds)\n",
    "    names = list(class_TC)               #extract the name of each compound(first column)\n",
    "    return class_TC\n",
    "\n",
    "def calc_pdf(Dataset):\n",
    "    compounds = {}\n",
    "    Class_pdfs = {} \n",
    "    x = np.linspace(0,1,101)\n",
    "    \n",
    "    for i in range(0, len(Dataset.T)):             #Columns   \n",
    "        compounds[i]=Dataset.iloc [:, i].values\n",
    "        Class_pdfs[i] = gaussian_kde(compounds[i]).pdf(x)\n",
    "    return Class_pdfs\n",
    "\n",
    "def calc_Rep_pdf(pdf_dict):\n",
    "    Class_rep_pdf =np.zeros(101)\n",
    "    for i in range(0, len(pdf_dict)):\n",
    "        Class_rep_pdf += pdf_dict[i]\n",
    "    Class_rep_pdf = Class_rep_pdf/len(pdf_dict)   #Average(Representative) pdf for each class\n",
    "    return Class_rep_pdf\n",
    "\n",
    "def calc_entropy(Cross_TC_pdf, Rep_pdfA, Rep_pdfB, name):\n",
    "    Class_KLD_QA = {}\n",
    "    Class_KLD_QB = {}\n",
    "    Class_KLD_QA_reverse = {}\n",
    "    Class_KLD_QB_reverse = {}\n",
    "    Class_JSD_QA = {}\n",
    "    Class_JSD_QB = {}\n",
    "    \n",
    "    for i in range(0, len(Cross_TC_pdf)):              \n",
    "        Class_KLD_QA[i] = KL(Cross_TC_pdf[i]/sum(Cross_TC_pdf[i]), Rep_pdfA/sum(Rep_pdfA))        \n",
    "        Class_KLD_QB[i] = KL(Cross_TC_pdf[i]/sum(Cross_TC_pdf[i]), Rep_pdfB/sum(Rep_pdfB)) \n",
    "        Class_KLD_QA_reverse[i] = KL((Rep_pdfA/sum(Rep_pdfA)), (Cross_TC_pdf[i]/sum(Cross_TC_pdf[i])))\n",
    "        Class_KLD_QB_reverse[i] = KL((Rep_pdfB/sum(Rep_pdfB)), (Cross_TC_pdf[i]/sum(Cross_TC_pdf[i])))\n",
    "        Class_JSD_QA[i] = (KL(Cross_TC_pdf[i]/sum(Cross_TC_pdf[i]), Rep_pdfA/sum(Rep_pdfA))  + KL(Rep_pdfA/sum(Rep_pdfA) , Cross_TC_pdf[i]/sum(Cross_TC_pdf[i])))/2    \n",
    "        Class_JSD_QB[i] = (KL(Cross_TC_pdf[i]/sum(Cross_TC_pdf[i]), Rep_pdfB/sum(Rep_pdfB))  + KL(Rep_pdfB/sum(Rep_pdfB) ,Cross_TC_pdf[i]/sum(Cross_TC_pdf[i])))/2\n",
    "\n",
    "    Class_entropy = pd.DataFrame(data = [ Class_KLD_QA.values(), Class_KLD_QB.values(),Class_KLD_QA_reverse.values(),\n",
    "                                         Class_KLD_QB_reverse.values(),  Class_JSD_QA.values(), Class_JSD_QB.values()],\n",
    "                                 index = ['Class_KLD_QA', 'Class_KLD_QB', 'Class_KLD_QA_reverse', 'Class_KLD_QB_reverse','Class_JSD_QA', 'Class_JSD_QB'] )\n",
    "    Class_entropy.to_csv( name+\"_entropy.csv\", sep=',', encoding='utf-8') \n",
    "     \n",
    "    return Class_entropy.T\n",
    "\n",
    "\n",
    "\n",
    "def visualize(entropy, pdfA, pdfB, name):\n",
    "    Hist_Class_KLD_Q1 = entropy['Class_KLD_QA'].values   \n",
    "    Hist_Class_KLD_Q2= entropy['Class_KLD_QB'].values \n",
    "    Hist_Class_KLD_Q1_reverse =  entropy['Class_KLD_QA_reverse'].values   \n",
    "    Hist_Class_KLD_Q2_reverse =  entropy['Class_KLD_QB_reverse'].values   \n",
    "    Hist_Class_JSD_Q1= entropy['Class_JSD_QA'].values   \n",
    "    Hist_Class_JSD_Q2= entropy['Class_JSD_QB'].values   \n",
    "\n",
    "\n",
    "    plt.subplot(2, 2, 1)\n",
    "    plt.hist(Hist_Class_KLD_Q1, bins = 200)\n",
    "    plt.hist(Hist_Class_KLD_Q2, bins = 200)\n",
    "    plt.ylabel('Class_KL-Divergence')\n",
    "    plt.xlim(0, 3)\n",
    "\n",
    "    plt.subplot(2, 2, 2)\n",
    "    plt.hist(Hist_Class_KLD_Q1_reverse, bins = 200)\n",
    "    plt.hist(Hist_Class_KLD_Q2_reverse, bins = 200)\n",
    "    plt.ylabel('Class_KL-Divergence_reverse')\n",
    "    plt.xlim(0, 3)\n",
    "\n",
    "\n",
    "    plt.subplot(2, 2, 3)\n",
    "    plt.hist(Hist_Class_JSD_Q1, bins = 200)\n",
    "    plt.hist(Hist_Class_JSD_Q2, bins = 200)\n",
    "    plt.ylabel('Class2_JS--Divergence')\n",
    "\n",
    "    plt.subplot(2, 2, 4)\n",
    "    plt.plot(np.linspace(0,1,101), pdfA, np.linspace(0,1,101), pdfB)\n",
    "    plt.xlabel('Representative pdf of each Classes')\n",
    "\n",
    "    plt.savefig('Class'+name + '.jpg')\n",
    "    plt.show()\n",
    "    return\n",
    "\n"
   ]
  },
  {
   "cell_type": "code",
   "execution_count": 2,
   "metadata": {},
   "outputs": [
    {
     "name": "stdout",
     "output_type": "stream",
     "text": [
      "1055\n",
      "4167\n",
      "1055\n"
     ]
    }
   ],
   "source": [
    "filename1 = 'cross10-10'\n",
    "filename2 = 'cross14-14'\n",
    "filename3 = 'cross10-14'\n",
    "\n",
    "class1pdf = calc_pdf(readdata(filename1 + '.csv.zip'))\n",
    "class2pdf = calc_pdf(readdata(filename2+ '.csv.zip'))\n",
    "cross_pdf = calc_pdf(readdata(filename3 + '.csv.zip'))\n",
    "class1Rep = calc_Rep_pdf(class1pdf)\n",
    "class2Rep = calc_Rep_pdf(class2pdf)\n",
    "cross_Rep = calc_Rep_pdf(cross_pdf)"
   ]
  },
  {
   "cell_type": "code",
   "execution_count": 3,
   "metadata": {},
   "outputs": [
    {
     "data": {
      "image/png": "[encoded data removed]",
      "text/plain": [
       "<Figure size 432x288 with 4 Axes>"
      ]
     },
     "metadata": {
      "needs_background": "light"
     },
     "output_type": "display_data"
    }
   ],
   "source": [
    "\n",
    "cross_entropy = calc_entropy(cross_pdf, class1Rep, class2Rep, filename3)\n",
    "visualize(cross_entropy,class1Rep,class2Rep , filename3 )\n"
   ]
  },
  {
   "cell_type": "code",
   "execution_count": null,
   "metadata": {},
   "outputs": [],
   "source": []
  },
  {
   "cell_type": "code",
   "execution_count": null,
   "metadata": {},
   "outputs": [],
   "source": []
  },
  {
   "cell_type": "code",
   "execution_count": null,
   "metadata": {},
   "outputs": [],
   "source": []
  },
  {
   "cell_type": "code",
   "execution_count": null,
   "metadata": {},
   "outputs": [],
   "source": []
  },
  {
   "cell_type": "code",
   "execution_count": null,
   "metadata": {},
   "outputs": [],
   "source": []
  },
  {
   "cell_type": "code",
   "execution_count": null,
   "metadata": {},
   "outputs": [],
   "source": []
  },
  {
   "cell_type": "code",
   "execution_count": null,
   "metadata": {},
   "outputs": [],
   "source": []
  },
  {
   "cell_type": "code",
   "execution_count": null,
   "metadata": {},
   "outputs": [],
   "source": []
  },
  {
   "cell_type": "code",
   "execution_count": null,
   "metadata": {},
   "outputs": [],
   "source": []
  },
  {
   "cell_type": "code",
   "execution_count": null,
   "metadata": {},
   "outputs": [],
   "source": []
  },
  {
   "cell_type": "code",
   "execution_count": 79,
   "metadata": {},
   "outputs": [],
   "source": []
  },
  {
   "cell_type": "code",
   "execution_count": null,
   "metadata": {},
   "outputs": [],
   "source": []
  },
  {
   "cell_type": "code",
   "execution_count": null,
   "metadata": {},
   "outputs": [],
   "source": []
  },
  {
   "cell_type": "code",
   "execution_count": null,
   "metadata": {},
   "outputs": [],
   "source": []
  }
 ],
 "metadata": {
  "kernelspec": {
   "display_name": "Python 3",
   "language": "python",
   "name": "python3"
  },
  "language_info": {
   "codemirror_mode": {
    "name": "ipython",
    "version": 3
   },
   "file_extension": ".py",
   "mimetype": "text/x-python",
   "name": "python",
   "nbconvert_exporter": "python",
   "pygments_lexer": "ipython3",
   "version": "3.7.6"
  }
 },
 "nbformat": 4,
 "nbformat_minor": 2
}
